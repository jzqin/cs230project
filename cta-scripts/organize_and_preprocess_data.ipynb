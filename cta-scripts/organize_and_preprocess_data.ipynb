{
 "cells": [
  {
   "cell_type": "code",
   "execution_count": null,
   "metadata": {},
   "outputs": [],
   "source": [
    "\"\"\"\n",
    "Jason Qin\n",
    "CS230\n",
    "\n",
    "Preprocess all data by\n",
    "1) Split data into train/dev/test\n",
    "2) Convert CT scan DICOMs into PNG\n",
    "3) Convert NRRD segmentation masks into PNG\n",
    "4) Generate mapping between segmentation masks and DICOMs\n",
    "\"\"\""
   ]
  },
  {
   "cell_type": "code",
   "execution_count": 1,
   "metadata": {},
   "outputs": [],
   "source": [
    "import numpy as np\n",
    "import glob\n",
    "import scipy\n",
    "import os\n",
    "import random\n",
    "import shutil"
   ]
  },
  {
   "cell_type": "code",
   "execution_count": 3,
   "metadata": {},
   "outputs": [
    {
     "data": {
      "text/plain": [
       "\"\\n# split data into train/dev/test\\n# since not much data, use 80/10/10 split\\n\\nmaskFiles = glob.glob('/data2/yeom/ky_aneur/segmentation/segmentations_181128/*.nrrd')\\nrandom.shuffle(maskFiles)\\ntrainFiles = maskFiles[0:51]\\ndevFiles = maskFiles[51:57]\\ntestFiles = maskFiles[57:63]\\n\\n# copy files into new directory\\nfor trainFile in trainFiles:\\n    trainDir = '/data2/yeom/ky_aneur/segmentation/final_segmentation/train'\\n    shutil.copy2(trainFile, trainDir)\\n    \\nfor devFile in devFiles:\\n    devDir = '/data2/yeom/ky_aneur/segmentation/final_segmentation/dev'\\n    shutil.copy2(devFile, devDir)\\n    \\nfor testFile in testFiles:\\n    testDir = '/data2/yeom/ky_aneur/segmentation/final_segmentation/test'\\n    shutil.copy2(testFile, testDir)\\n\""
      ]
     },
     "execution_count": 3,
     "metadata": {},
     "output_type": "execute_result"
    }
   ],
   "source": [
    "# split data into train/dev/test\n",
    "# since not much data, use 80/10/10 split\n",
    "\n",
    "maskFiles = glob.glob('/data2/yeom/ky_aneur/segmentation/segmentations_181128/*.nrrd')\n",
    "random.shuffle(maskFiles)\n",
    "trainFiles = maskFiles[0:51]\n",
    "devFiles = maskFiles[51:57]\n",
    "testFiles = maskFiles[57:63]\n",
    "\n",
    "# copy files into new directory\n",
    "for trainFile in trainFiles:\n",
    "    trainDir = '/data2/yeom/ky_aneur/segmentation/final_segmentation/train'\n",
    "    shutil.copy2(trainFile, trainDir)\n",
    "    \n",
    "for devFile in devFiles:\n",
    "    devDir = '/data2/yeom/ky_aneur/segmentation/final_segmentation/dev'\n",
    "    shutil.copy2(devFile, devDir)\n",
    "    \n",
    "for testFile in testFiles:\n",
    "    testDir = '/data2/yeom/ky_aneur/segmentation/final_segmentation/test'\n",
    "    shutil.copy2(testFile, testDir)\n"
   ]
  },
  {
   "cell_type": "code",
   "execution_count": 2,
   "metadata": {},
   "outputs": [],
   "source": [
    "# convert CT DICOMs into PNG\n",
    "# convert NRRD segmentation masks into PNG\n",
    "# generate mapping between segmentation masks and DICOM\n",
    "\n",
    "os.system('python preprocess_data.py -d /data2/yeom/ky_aneur/sah/SAH_1.25 -m /data2/yeom/ky_aneur/segmentation/final_segmentation/test/ -o /data2/yeom/ky_aneur/resnet_data/test/ -f /home/ky_aneur/cs230/code/cta-scripts/test_list.odgt')\n",
    "os.system('python preprocess_data.py -d /data2/yeom/ky_aneur/sah/SAH_1.25 -m /data2/yeom/ky_aneur/segmentation/final_segmentation/dev/ -o /data2/yeom/ky_aneur/resnet_data/dev/ -f /home/ky_aneur/cs230/code/cta-scripts/dev_list.odgt')\n",
    "os.system('python preprocess_data.py -d /data2/yeom/ky_aneur/sah/SAH_1.25 -m /data2/yeom/ky_aneur/segmentation/final_segmentation/train/ -o /data2/yeom/ky_aneur/resnet_data/train/ -f /home/ky_aneur/cs230/code/cta-scripts/train_list.odgt')"
   ]
  }
 ],
 "metadata": {
  "kernelspec": {
   "display_name": "Python 3",
   "language": "python",
   "name": "python3"
  },
  "language_info": {
   "codemirror_mode": {
    "name": "ipython",
    "version": 3
   },
   "file_extension": ".py",
   "mimetype": "text/x-python",
   "name": "python",
   "nbconvert_exporter": "python",
   "pygments_lexer": "ipython3",
   "version": "3.6.7"
  }
 },
 "nbformat": 4,
 "nbformat_minor": 2
}
