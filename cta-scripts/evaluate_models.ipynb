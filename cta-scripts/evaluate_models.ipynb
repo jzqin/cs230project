{
 "cells": [
  {
   "cell_type": "code",
   "execution_count": null,
   "metadata": {},
   "outputs": [],
   "source": [
    "\"\"\"\n",
    "Jason Qin\n",
    "\n",
    "Evaluate IOU of different models\n",
    "\"\"\""
   ]
  },
  {
   "cell_type": "code",
   "execution_count": 2,
   "metadata": {},
   "outputs": [],
   "source": [
    "import numpy as np\n",
    "import argparse\n",
    "import os, os.path\n",
    "import subprocess\n",
    "import sys\n",
    "import re\n",
    "import matplotlib.pyplot as plt"
   ]
  },
  {
   "cell_type": "code",
   "execution_count": 23,
   "metadata": {},
   "outputs": [
    {
     "name": "stdout",
     "output_type": "stream",
     "text": [
      "python /home/ky_aneur/cs230/code/resnet/semantic-segmentation-pytorch/eval.py --id resnet50_upernet_train-resnet50-upernet-ngpus2-batchSize4-imgMaxSize1000-paddingConst32-segmDownsampleRate4-LR_encoder0.02-LR_decoder0.02-epoch20 --list_val /home/ky_aneur/cs230/code/cta-scripts/dev_list.odgt --root_dataset /data2/yeom/ky_aneur/sah_png/dev/ --arch_encoder resnet50 --arch_decoder upernet --num_class 2 --ckpt /data2/yeom/ky_aneur/results/ckpt/loss_weights/ --result /data2/yeom/ky_aneur/results/dev/resnet50_upernet_train --suffix _epoch_20.pth --gpu_id 2\n",
      "/home/ky_aneur/cs230/code/resnet/semantic-segmentation-pytorch/eval_outputs/loss_weights/resnet50_upernet_train.txt\n",
      "python /home/ky_aneur/cs230/code/resnet/semantic-segmentation-pytorch/eval.py --id resnet50_upernet_train2-resnet50-upernet-ngpus2-batchSize4-imgMaxSize1000-paddingConst32-segmDownsampleRate4-LR_encoder0.02-LR_decoder0.02-epoch20 --list_val /home/ky_aneur/cs230/code/cta-scripts/dev_list.odgt --root_dataset /data2/yeom/ky_aneur/sah_png/dev/ --arch_encoder resnet50 --arch_decoder upernet --num_class 2 --ckpt /data2/yeom/ky_aneur/results/ckpt/loss_weights/ --result /data2/yeom/ky_aneur/results/dev/resnet50_upernet_train2 --suffix _epoch_20.pth --gpu_id 2\n",
      "/home/ky_aneur/cs230/code/resnet/semantic-segmentation-pytorch/eval_outputs/loss_weights/resnet50_upernet_train2.txt\n",
      "python /home/ky_aneur/cs230/code/resnet/semantic-segmentation-pytorch/eval.py --id resnet50_upernet_train3-resnet50-upernet-ngpus2-batchSize4-imgMaxSize1000-paddingConst32-segmDownsampleRate4-LR_encoder0.02-LR_decoder0.02-epoch20 --list_val /home/ky_aneur/cs230/code/cta-scripts/dev_list.odgt --root_dataset /data2/yeom/ky_aneur/sah_png/dev/ --arch_encoder resnet50 --arch_decoder upernet --num_class 2 --ckpt /data2/yeom/ky_aneur/results/ckpt/loss_weights/ --result /data2/yeom/ky_aneur/results/dev/resnet50_upernet_train3 --suffix _epoch_20.pth --gpu_id 2\n",
      "/home/ky_aneur/cs230/code/resnet/semantic-segmentation-pytorch/eval_outputs/loss_weights/resnet50_upernet_train3.txt\n"
     ]
    }
   ],
   "source": [
    "\"\"\"Evaluate different architectures\"\"\"\n",
    "PYTHON = sys.executable\n",
    "\n",
    "encoders = ['resnet50']\n",
    "decoders = ['c1', 'ppm', 'upernet']\n",
    "\n",
    "for encoder in encoders:\n",
    "    for decoder in decoders:\n",
    "        resultDir = '/data2/yeom/ky_aneur/results/dev/{}_{}'.format(encoder, decoder)\n",
    "        if not os.path.exists(resultDir):\n",
    "            os.mkdir(resultDir)\n",
    "        if 'upernet' in decoder:\n",
    "            paddingConstant = 32\n",
    "            segmDownsamplingRate = 4\n",
    "        else:\n",
    "            paddingConstant = 8\n",
    "            segmDownsamplingRate = 8\n",
    "        # for epoch in range(20):\n",
    "        for epoch in [20]:\n",
    "            cmd = ('python /home/ky_aneur/cs230/code/resnet/semantic-segmentation-pytorch/eval.py --id {encoder}_{decoder}-{encoder}-{decoder}-ngpus2-batchSize4-imgMaxSize1000-paddingConst{paddingConstant}-segmDownsampleRate{segmDownsamplingRate}-LR_encoder0.02'\n",
    "                   '-LR_decoder0.02-epoch20 --list_val /home/ky_aneur/cs230/code/cta-scripts/dev_list.odgt --root_dataset /data2/yeom/ky_aneur/sah_png/dev/ --arch_encoder {encoder} --arch_decoder {decoder} '\n",
    "                   '--num_class 2 --ckpt /data2/yeom/ky_aneur/results/ckpt/loss_weights/ --result {resultDir} --suffix _epoch_{epoch}.pth --gpu_id 2').format(encoder=encoder, decoder=decoder, paddingConstant=paddingConstant,\n",
    "                                                                                                                                                         segmDownsamplingRate = segmDownsamplingRate, resultDir = resultDir, epoch=epoch)\n",
    "            output = '/home/ky_aneur/cs230/code/resnet/semantic-segmentation-pytorch/eval_outputs/arch/{}_{}.txt'.format(encoder, decoder, t)\n",
    "            print(cmd)\n",
    "            print(output)\n",
    "            with open(output, 'w') as f:\n",
    "                subprocess.call(cmd, shell=True, stdout=f)"
   ]
  },
  {
   "cell_type": "code",
   "execution_count": 23,
   "metadata": {},
   "outputs": [
    {
     "name": "stdout",
     "output_type": "stream",
     "text": [
      "python /home/ky_aneur/cs230/code/resnet/semantic-segmentation-pytorch/eval.py --id resnet50_upernet_train-resnet50-upernet-ngpus2-batchSize4-imgMaxSize1000-paddingConst32-segmDownsampleRate4-LR_encoder0.02-LR_decoder0.02-epoch20 --list_val /home/ky_aneur/cs230/code/cta-scripts/dev_list.odgt --root_dataset /data2/yeom/ky_aneur/sah_png/dev/ --arch_encoder resnet50 --arch_decoder upernet --num_class 2 --ckpt /data2/yeom/ky_aneur/results/ckpt/loss_weights/ --result /data2/yeom/ky_aneur/results/dev/resnet50_upernet_train --suffix _epoch_20.pth --gpu_id 2\n",
      "/home/ky_aneur/cs230/code/resnet/semantic-segmentation-pytorch/eval_outputs/loss_weights/resnet50_upernet_train.txt\n",
      "python /home/ky_aneur/cs230/code/resnet/semantic-segmentation-pytorch/eval.py --id resnet50_upernet_train2-resnet50-upernet-ngpus2-batchSize4-imgMaxSize1000-paddingConst32-segmDownsampleRate4-LR_encoder0.02-LR_decoder0.02-epoch20 --list_val /home/ky_aneur/cs230/code/cta-scripts/dev_list.odgt --root_dataset /data2/yeom/ky_aneur/sah_png/dev/ --arch_encoder resnet50 --arch_decoder upernet --num_class 2 --ckpt /data2/yeom/ky_aneur/results/ckpt/loss_weights/ --result /data2/yeom/ky_aneur/results/dev/resnet50_upernet_train2 --suffix _epoch_20.pth --gpu_id 2\n",
      "/home/ky_aneur/cs230/code/resnet/semantic-segmentation-pytorch/eval_outputs/loss_weights/resnet50_upernet_train2.txt\n",
      "python /home/ky_aneur/cs230/code/resnet/semantic-segmentation-pytorch/eval.py --id resnet50_upernet_train3-resnet50-upernet-ngpus2-batchSize4-imgMaxSize1000-paddingConst32-segmDownsampleRate4-LR_encoder0.02-LR_decoder0.02-epoch20 --list_val /home/ky_aneur/cs230/code/cta-scripts/dev_list.odgt --root_dataset /data2/yeom/ky_aneur/sah_png/dev/ --arch_encoder resnet50 --arch_decoder upernet --num_class 2 --ckpt /data2/yeom/ky_aneur/results/ckpt/loss_weights/ --result /data2/yeom/ky_aneur/results/dev/resnet50_upernet_train3 --suffix _epoch_20.pth --gpu_id 2\n",
      "/home/ky_aneur/cs230/code/resnet/semantic-segmentation-pytorch/eval_outputs/loss_weights/resnet50_upernet_train3.txt\n"
     ]
    }
   ],
   "source": [
    "\"\"\"Evaluate different loss weights\"\"\"\n",
    "PYTHON = sys.executable\n",
    "\n",
    "encoders = ['resnet50']\n",
    "# decoders = ['c1', 'ppm', 'upernet']\n",
    "decoders = ['upernet']\n",
    "trainId = ['', '2', '3']\n",
    "\n",
    "for encoder in encoders:\n",
    "    for decoder in decoders:\n",
    "        for t in trainId:\n",
    "            resultDir = '/data2/yeom/ky_aneur/results/dev/{}_{}_train{}'.format(encoder, decoder, t)\n",
    "            if not os.path.exists(resultDir):\n",
    "                os.mkdir(resultDir)\n",
    "            if 'upernet' in decoder:\n",
    "                paddingConstant = 32\n",
    "                segmDownsamplingRate = 4\n",
    "            else:\n",
    "                paddingConstant = 8\n",
    "                segmDownsamplingRate = 8\n",
    "            # for epoch in range(20):\n",
    "            for epoch in [20]:\n",
    "                cmd = ('python /home/ky_aneur/cs230/code/resnet/semantic-segmentation-pytorch/eval.py --id {encoder}_{decoder}_train{t}-{encoder}-{decoder}-ngpus2-batchSize4-imgMaxSize1000-paddingConst{paddingConstant}-segmDownsampleRate{segmDownsamplingRate}-LR_encoder0.02'\n",
    "                       '-LR_decoder0.02-epoch20 --list_val /home/ky_aneur/cs230/code/cta-scripts/dev_list.odgt --root_dataset /data2/yeom/ky_aneur/sah_png/dev/ --arch_encoder {encoder} --arch_decoder {decoder} '\n",
    "                       '--num_class 2 --ckpt /data2/yeom/ky_aneur/results/ckpt/loss_weights/ --result {resultDir} --suffix _epoch_{epoch}.pth --gpu_id 2').format(encoder=encoder, decoder=decoder, paddingConstant=paddingConstant, t=t,\n",
    "                                                                                                                                                             segmDownsamplingRate = segmDownsamplingRate, resultDir = resultDir, epoch=epoch)\n",
    "                output = '/home/ky_aneur/cs230/code/resnet/semantic-segmentation-pytorch/eval_outputs/loss_weights/{}_{}_train{}.txt'.format(encoder, decoder, t)\n",
    "                print(cmd)\n",
    "                print(output)\n",
    "                with open(output, 'w') as f:\n",
    "                    subprocess.call(cmd, shell=True, stdout=f)"
   ]
  },
  {
   "cell_type": "code",
   "execution_count": 24,
   "metadata": {},
   "outputs": [
    {
     "name": "stdout",
     "output_type": "stream",
     "text": [
      "python /home/ky_aneur/cs230/code/resnet/semantic-segmentation-pytorch/eval.py --id resnet50_upernet_train-resnet50-upernet-ngpus2-batchSize4-imgMaxSize1000-paddingConst32-segmDownsampleRate4-LR_encoder0.02-LR_decoder0.02-epoch20 --list_val /home/ky_aneur/cs230/code/cta-scripts/dev_list.odgt --root_dataset /data2/yeom/ky_aneur/sah_png/dev/ --arch_encoder resnet50 --arch_decoder upernet --num_class 2 --ckpt /data2/yeom/ky_aneur/results/ckpt/loss_weights/ --result /data2/yeom/ky_aneur/results/dev/resnet50_upernet_100x --suffix _epoch_20.pth --gpu_id 2\n",
      "/home/ky_aneur/cs230/code/resnet/semantic-segmentation-pytorch/eval_outputs/upsampling/resnet50_upernet_100x.txt\n"
     ]
    }
   ],
   "source": [
    "\"\"\"Evaluate different upsampling amounts\"\"\"\n",
    "PYTHON = sys.executable\n",
    "\n",
    "encoders = ['resnet50']\n",
    "# decoders = ['c1', 'ppm', 'upernet']\n",
    "decoders = ['upernet']\n",
    "# upsampleId = ['10x', '100x']\n",
    "upsampleId = ['100x']\n",
    "\n",
    "for encoder in encoders:\n",
    "    for decoder in decoders:\n",
    "        for u in upsampleId:\n",
    "            resultDir = '/data2/yeom/ky_aneur/results/dev/{}_{}_{}'.format(encoder, decoder, u)\n",
    "            if not os.path.exists(resultDir):\n",
    "                os.mkdir(resultDir)\n",
    "            if 'upernet' in decoder:\n",
    "                paddingConstant = 32\n",
    "                segmDownsamplingRate = 4\n",
    "            else:\n",
    "                paddingConstant = 8\n",
    "                segmDownsamplingRate = 8\n",
    "            # for epoch in range(20):\n",
    "            for epoch in [20]:\n",
    "                cmd = ('python /home/ky_aneur/cs230/code/resnet/semantic-segmentation-pytorch/eval.py --id {encoder}_{decoder}_train-{encoder}-{decoder}-ngpus2-batchSize4-imgMaxSize1000-paddingConst{paddingConstant}-segmDownsampleRate{segmDownsamplingRate}-LR_encoder0.02'\n",
    "                       '-LR_decoder0.02-epoch20 --list_val /home/ky_aneur/cs230/code/cta-scripts/dev_list.odgt --root_dataset /data2/yeom/ky_aneur/sah_png/dev/ --arch_encoder {encoder} --arch_decoder {decoder} '\n",
    "                       '--num_class 2 --ckpt /data2/yeom/ky_aneur/results/ckpt/loss_weights/ --result {resultDir} --suffix _epoch_{epoch}.pth --gpu_id 2').format(encoder=encoder, decoder=decoder, paddingConstant=paddingConstant, t=t,\n",
    "                                                                                                                                                             segmDownsamplingRate = segmDownsamplingRate, resultDir = resultDir, epoch=epoch)\n",
    "                output = '/home/ky_aneur/cs230/code/resnet/semantic-segmentation-pytorch/eval_outputs/upsampling/{}_{}_{}.txt'.format(encoder, decoder, u)\n",
    "                print(cmd)\n",
    "                print(output)\n",
    "                with open(output, 'w') as f:\n",
    "                    subprocess.call(cmd, shell=True, stdout=f)"
   ]
  },
  {
   "cell_type": "code",
   "execution_count": 26,
   "metadata": {},
   "outputs": [
    {
     "name": "stdout",
     "output_type": "stream",
     "text": [
      "python /home/ky_aneur/cs230/code/resnet/semantic-segmentation-pytorch/eval.py --id resnet50_upernet_0.002-resnet50-upernet-ngpus2-batchSize4-imgMaxSize1000-paddingConst32-segmDownsampleRate4-LR_encoder0.02-LR_decoder0.002-epoch20 --list_val /home/ky_aneur/cs230/code/cta-scripts/dev_list.odgt --root_dataset /data2/yeom/ky_aneur/sah_png/dev/ --arch_encoder resnet50 --arch_decoder upernet --num_class 2 --ckpt /data2/yeom/ky_aneur/results/ckpt/learning_rate/ --result /data2/yeom/ky_aneur/results/dev/resnet50_upernet_0.002 --suffix _epoch_20.pth --gpu_id 2\n",
      "/home/ky_aneur/cs230/code/resnet/semantic-segmentation-pytorch/eval_outputs/learning_rate/resnet50_upernet_0.002.txt\n",
      "python /home/ky_aneur/cs230/code/resnet/semantic-segmentation-pytorch/eval.py --id resnet50_upernet_0.2-resnet50-upernet-ngpus2-batchSize4-imgMaxSize1000-paddingConst32-segmDownsampleRate4-LR_encoder0.02-LR_decoder0.2-epoch20 --list_val /home/ky_aneur/cs230/code/cta-scripts/dev_list.odgt --root_dataset /data2/yeom/ky_aneur/sah_png/dev/ --arch_encoder resnet50 --arch_decoder upernet --num_class 2 --ckpt /data2/yeom/ky_aneur/results/ckpt/learning_rate/ --result /data2/yeom/ky_aneur/results/dev/resnet50_upernet_0.2 --suffix _epoch_20.pth --gpu_id 2\n",
      "/home/ky_aneur/cs230/code/resnet/semantic-segmentation-pytorch/eval_outputs/learning_rate/resnet50_upernet_0.2.txt\n"
     ]
    }
   ],
   "source": [
    "\"\"\"Evaluate different learning rates\"\"\"\n",
    "PYTHON = sys.executable\n",
    "\n",
    "encoders = ['resnet50']\n",
    "# decoders = ['c1', 'ppm', 'upernet']\n",
    "decoders = ['upernet']\n",
    "learningRates = ['0.002', '0.2']\n",
    "\n",
    "for encoder in encoders:\n",
    "    for decoder in decoders:\n",
    "        for lr in learningRates:\n",
    "            resultDir = '/data2/yeom/ky_aneur/results/dev/{}_{}_{}'.format(encoder, decoder, lr)\n",
    "            if not os.path.exists(resultDir):\n",
    "                os.mkdir(resultDir)\n",
    "            if 'upernet' in decoder:\n",
    "                paddingConstant = 32\n",
    "                segmDownsamplingRate = 4\n",
    "            else:\n",
    "                paddingConstant = 8\n",
    "                segmDownsamplingRate = 8\n",
    "            # for epoch in range(20):\n",
    "            for epoch in [20]:\n",
    "                cmd = ('python /home/ky_aneur/cs230/code/resnet/semantic-segmentation-pytorch/eval.py --id {encoder}_{decoder}_{lr}-{encoder}-{decoder}-ngpus2-batchSize4-imgMaxSize1000-paddingConst{paddingConstant}-segmDownsampleRate{segmDownsamplingRate}-LR_encoder0.02'\n",
    "                       '-LR_decoder{lr}-epoch20 --list_val /home/ky_aneur/cs230/code/cta-scripts/dev_list.odgt --root_dataset /data2/yeom/ky_aneur/sah_png/dev/ --arch_encoder {encoder} --arch_decoder {decoder} '\n",
    "                       '--num_class 2 --ckpt /data2/yeom/ky_aneur/results/ckpt/learning_rate/ --result {resultDir} --suffix _epoch_{epoch}.pth --gpu_id 2').format(encoder=encoder, decoder=decoder, paddingConstant=paddingConstant, lr=lr,\n",
    "                                                                                                                                                             segmDownsamplingRate = segmDownsamplingRate, resultDir = resultDir, epoch=epoch)\n",
    "                output = '/home/ky_aneur/cs230/code/resnet/semantic-segmentation-pytorch/eval_outputs/learning_rate/{}_{}_{}.txt'.format(encoder, decoder, lr)\n",
    "                print(cmd)\n",
    "                print(output)\n",
    "                with open(output, 'w') as f:\n",
    "                    subprocess.call(cmd, shell=True, stdout=f)"
   ]
  },
  {
   "cell_type": "code",
   "execution_count": 17,
   "metadata": {},
   "outputs": [
    {
     "ename": "TypeError",
     "evalue": "list indices must be integers, not tuple",
     "output_type": "error",
     "traceback": [
      "\u001b[0;31m---------------------------------------------------------------------------\u001b[0m",
      "\u001b[0;31mTypeError\u001b[0m                                 Traceback (most recent call last)",
      "\u001b[0;32m<ipython-input-17-1ac4f76b6929>\u001b[0m in \u001b[0;36m<module>\u001b[0;34m()\u001b[0m\n\u001b[1;32m      3\u001b[0m     \u001b[0;32mfor\u001b[0m \u001b[0mj\u001b[0m \u001b[0;32min\u001b[0m \u001b[0mrange\u001b[0m\u001b[0;34m(\u001b[0m\u001b[0mlen\u001b[0m\u001b[0;34m(\u001b[0m\u001b[0mdecoders\u001b[0m\u001b[0;34m)\u001b[0m\u001b[0;34m)\u001b[0m\u001b[0;34m:\u001b[0m\u001b[0;34m\u001b[0m\u001b[0m\n\u001b[1;32m      4\u001b[0m         \u001b[0mdecoder\u001b[0m \u001b[0;34m=\u001b[0m \u001b[0mdecoders\u001b[0m\u001b[0;34m[\u001b[0m\u001b[0mj\u001b[0m\u001b[0;34m]\u001b[0m\u001b[0;34m\u001b[0m\u001b[0m\n\u001b[0;32m----> 5\u001b[0;31m         \u001b[0mlosses\u001b[0m \u001b[0;34m=\u001b[0m \u001b[0mallLosses\u001b[0m\u001b[0;34m[\u001b[0m\u001b[0;34m:\u001b[0m\u001b[0;34m,\u001b[0m \u001b[0mi\u001b[0m\u001b[0;34m*\u001b[0m\u001b[0;36m3\u001b[0m \u001b[0;34m+\u001b[0m \u001b[0mj\u001b[0m\u001b[0;34m]\u001b[0m\u001b[0;34m\u001b[0m\u001b[0m\n\u001b[0m\u001b[1;32m      6\u001b[0m         \u001b[0mplt\u001b[0m\u001b[0;34m.\u001b[0m\u001b[0mplot\u001b[0m\u001b[0;34m(\u001b[0m\u001b[0mepochs\u001b[0m\u001b[0;34m,\u001b[0m \u001b[0mlosses\u001b[0m\u001b[0;34m,\u001b[0m \u001b[0mlabel\u001b[0m\u001b[0;34m=\u001b[0m\u001b[0;34m'{}-{}'\u001b[0m\u001b[0;34m.\u001b[0m\u001b[0mformat\u001b[0m\u001b[0;34m(\u001b[0m\u001b[0mencoder\u001b[0m\u001b[0;34m,\u001b[0m \u001b[0mdecoder\u001b[0m\u001b[0;34m)\u001b[0m\u001b[0;34m,\u001b[0m \u001b[0mmarker\u001b[0m\u001b[0;34m=\u001b[0m\u001b[0;34m'.'\u001b[0m\u001b[0;34m,\u001b[0m \u001b[0mlinestyle\u001b[0m\u001b[0;34m=\u001b[0m\u001b[0;34m'--'\u001b[0m\u001b[0;34m)\u001b[0m\u001b[0;34m\u001b[0m\u001b[0m\n\u001b[1;32m      7\u001b[0m \u001b[0;34m\u001b[0m\u001b[0m\n",
      "\u001b[0;31mTypeError\u001b[0m: list indices must be integers, not tuple"
     ]
    }
   ],
   "source": [
    "for i in range(len(encoders)):\n",
    "    encoder = encoders[i]\n",
    "    for j in range(len(decoders)):\n",
    "        decoder = decoders[j]\n",
    "        losses = allLosses[:, i*3 + j]\n",
    "        plt.plot(epochs, losses, label='{}-{}'.format(encoder, decoder), marker='.', linestyle='--')\n",
    "    \n",
    "plt.legend()\n",
    "plt.show()\n",
    "\n",
    "for i in range(len(encoders)):\n",
    "    encoder = encoders[i]\n",
    "    for j in range(len(decoders)):\n",
    "        decoder = decoders[j]\n",
    "        ious = allIous[:, i*3 + j]\n",
    "        plt.plot(epochs, ious, label='{}-{}'.format(encoder, decoder), marker='.', linestyle='--')\n",
    "    \n",
    "plt.legend()\n",
    "plt.show()"
   ]
  }
 ],
 "metadata": {
  "kernelspec": {
   "display_name": "Python 2",
   "language": "python",
   "name": "python2"
  },
  "language_info": {
   "codemirror_mode": {
    "name": "ipython",
    "version": 2
   },
   "file_extension": ".py",
   "mimetype": "text/x-python",
   "name": "python",
   "nbconvert_exporter": "python",
   "pygments_lexer": "ipython2",
   "version": "2.7.15"
  }
 },
 "nbformat": 4,
 "nbformat_minor": 2
}
