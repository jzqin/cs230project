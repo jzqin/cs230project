{
 "cells": [
  {
   "cell_type": "code",
   "execution_count": null,
   "metadata": {},
   "outputs": [],
   "source": [
    "\"\"\"\n",
    "Jason Qin\n",
    "CS230\n",
    "\n",
    "Augment positive aneurysm data\n",
    "\"\"\""
   ]
  },
  {
   "cell_type": "code",
   "execution_count": 1,
   "metadata": {},
   "outputs": [],
   "source": [
    "import nrrd\n",
    "import numpy as np\n",
    "import numpy.random\n",
    "import matplotlib.image as mpimg\n",
    "import os, os.path\n",
    "import imageio as imgio\n",
    "import glob\n",
    "import shutil\n",
    "import preprocess_data"
   ]
  },
  {
   "cell_type": "code",
   "execution_count": 29,
   "metadata": {},
   "outputs": [],
   "source": [
    "# identify which training PNGs have positive aneurysm data\n",
    "# gather all training example NRRDs\n",
    "trainingMaskFiles = glob.glob('/data2/yeom/ky_aneur/segmentation/final_segmentation/train/*.nrrd')\n",
    "trainingDir = '/data2/yeom/ky_aneur/resnet_data/train/'\n",
    "destDir = trainingDir + 'augmentation3/'\n",
    "\n",
    "allSegScans = []\n",
    "allSegMasks = []\n",
    "for nrrdFile in trainingMaskFiles:\n",
    "    sampleName = os.path.basename(nrrdFile)[:-5]\n",
    "\n",
    "    mask = nrrd.read(nrrdFile)\n",
    "    mask = mask[0].astype(np.uint8)\n",
    "\n",
    "    maskSums = np.sum(mask, axis=0)\n",
    "    maskSums = np.sum(maskSums, axis=0)\n",
    "\n",
    "    maskLocs = np.squeeze(np.where(maskSums > 0))\n",
    "    for i in maskLocs:\n",
    "        trainingFiles = glob.glob('{}/{}/IM-[0-9][0-9][0-9][0-9]-{:04d}*'.format(trainingDir, sampleName, i))\n",
    "        for f in trainingFiles:\n",
    "            if 'mask' in f:\n",
    "                allSegMasks.append(f)\n",
    "                #dest = destDir + 'patient{:02d}-{:04d}_mask.png'.format(counter, i)\n",
    "            else:\n",
    "                allSegScans.append(f)\n",
    "                #dest = destDir + 'patient{:02d}-{:04d}.png'.format(counter, i)\n",
    "            # shutil.copyfile(f, dest)\n",
    "            \n",
    "counter = 0\n",
    "resample = numpy.random.randint(len(allSegScans), size=len(allSegScans) * 10)\n",
    "for i in resample:\n",
    "    scanToCopy = allSegScans[i]\n",
    "    maskToCopy = allSegMasks[i]\n",
    "    scanDest = destDir + 'resample{:04d}.png'.format(counter)\n",
    "    maskDest = destDir + 'resample{:04d}_mask.png'.format(counter)\n",
    "    shutil.copyfile(scanToCopy, scanDest)\n",
    "    shutil.copyfile(maskToCopy, maskDest)\n",
    "    counter = counter + 1        "
   ]
  },
  {
   "cell_type": "code",
   "execution_count": 33,
   "metadata": {},
   "outputs": [],
   "source": [
    "# Append new augmented data to existing training data list\n",
    "destDir = trainingDir + 'augmentation3/'\n",
    "trainingOdgt = '/home/ky_aneur/cs230/code/cta-scripts/train_list.odgt'\n",
    "res = preprocess_data.build_NN_inputs(destDir, trainingOdgt)"
   ]
  },
  {
   "cell_type": "code",
   "execution_count": 9,
   "metadata": {},
   "outputs": [
    {
     "name": "stdout",
     "output_type": "stream",
     "text": [
      "['IM-0052', 'IM-0008', 'IM-0062', 'IM-0018', 'IM-0061', 'IM-0003', 'IM-0055', 'IM-0042', 'IM-0013', 'IM-0008', 'IM-0035', 'IM-0005', 'IM-0008', 'IM-0046', 'IM-0040', 'IM-0005', 'IM-0020', 'IM-0016', 'IM-0025', 'IM-0032', 'IM-0008', 'IM-0045', 'IM-0002', 'IM-0029', 'IM-0048', 'IM-0023', 'IM-0008', 'IM-0063', 'IM-0039', 'IM-0044', 'IM-0078', 'IM-0049', 'IM-0077', 'IM-0027', 'IM-0061', 'IM-0044', 'IM-0006', 'IM-0050', 'IM-0047', 'IM-0041', 'IM-0049', 'IM-0038', 'IM-0008', 'IM-0012', 'IM-0018', 'IM-0010', 'IM-0056', 'IM-0053', 'IM-0048']\n",
      "['IM-0002' 'IM-0003' 'IM-0005' 'IM-0005' 'IM-0006' 'IM-0008' 'IM-0008'\n",
      " 'IM-0008' 'IM-0008' 'IM-0008' 'IM-0008' 'IM-0010' 'IM-0012' 'IM-0013'\n",
      " 'IM-0016' 'IM-0018' 'IM-0018' 'IM-0020' 'IM-0023' 'IM-0025' 'IM-0027'\n",
      " 'IM-0029' 'IM-0032' 'IM-0035' 'IM-0038' 'IM-0039' 'IM-0040' 'IM-0041'\n",
      " 'IM-0042' 'IM-0044' 'IM-0044' 'IM-0045' 'IM-0046' 'IM-0047' 'IM-0048'\n",
      " 'IM-0048' 'IM-0049' 'IM-0049' 'IM-0050' 'IM-0052' 'IM-0053' 'IM-0055'\n",
      " 'IM-0056' 'IM-0061' 'IM-0061' 'IM-0062' 'IM-0063' 'IM-0077' 'IM-0078']\n"
     ]
    }
   ],
   "source": [
    "# Check file name prefixes for each patient\n",
    "prefixes = []\n",
    "trainFolder = '/data2/yeom/ky_aneur/resnet_data/train'\n",
    "for folder in os.listdir(trainFolder):\n",
    "    files = os.listdir('{}/{}'.format(trainFolder, folder))\n",
    "    f = os.path.basename('{}/{}/{}'.format(trainFolder, folder, files[0]))\n",
    "    prefixes.append(f[0:7])\n",
    "    \n",
    "print(prefixes)\n",
    "print(np.sort(prefixes))"
   ]
  },
  {
   "cell_type": "code",
   "execution_count": 3,
   "metadata": {},
   "outputs": [
    {
     "name": "stdout",
     "output_type": "stream",
     "text": [
      "7088898048\n",
      "166287.0\n",
      "42630.50056829458\n",
      "541\n"
     ]
    }
   ],
   "source": [
    "# Find how many pixels are aneurysm and how many are background\n",
    "allPixelSum = 0\n",
    "aneurysmPixelSum = 0\n",
    "numAneurysmSlices = 0\n",
    "\n",
    "fileDir = '/data2/yeom/ky_aneur/segmentation/segmentations_181128/'\n",
    "for f in os.listdir(fileDir):\n",
    "    mask = nrrd.read(fileDir + '/' + f)\n",
    "    maskData = mask[0].astype(np.uint8)\n",
    "    \n",
    "    maskAneurysms = np.sum(maskData, axis=0)\n",
    "    maskAneurysmSums = np.sum(maskAneurysms, axis=0)\n",
    "\n",
    "    numAneurysmSlices += np.sum(maskAneurysmSums > 0)\n",
    "    aneurysmPixelSum += np.sum(maskAneurysmSums)\n",
    "    allPixelSum += 512*512*maskData.shape[2]\n",
    "    \n",
    "print(allPixelSum)\n",
    "print(aneurysmPixelSum)\n",
    "print(aneurysmPixelSum / allPixelSum)\n",
    "print(numAneurysmSlices)"
   ]
  },
  {
   "cell_type": "code",
   "execution_count": 28,
   "metadata": {},
   "outputs": [
    {
     "name": "stdout",
     "output_type": "stream",
     "text": [
      "6651480.0\n",
      "12761694208\n",
      "2.3457383485281574e-05\n",
      "0.0005212066588956776\n"
     ]
    }
   ],
   "source": [
    "# Calculate proportion of pixels after upsampling the positive data\n",
    "multFactor = 80\n",
    "augmentedAneurysmPixelSum = aneurysmPixelSum * multFactor\n",
    "augmentedAllPixelSum = allPixelSum + numAneurysmSlices*multFactor*512*512\n",
    "\n",
    "print(augmentedAneurysmPixelSum)\n",
    "print(augmentedAllPixelSum)\n",
    "\n",
    "print(aneurysmPixelSum / allPixelSum)\n",
    "print(augmentedAneurysmPixelSum / augmentedAllPixelSum)"
   ]
  }
 ],
 "metadata": {
  "kernelspec": {
   "display_name": "Python 2",
   "language": "python",
   "name": "python2"
  },
  "language_info": {
   "codemirror_mode": {
    "name": "ipython",
    "version": 2
   },
   "file_extension": ".py",
   "mimetype": "text/x-python",
   "name": "python",
   "nbconvert_exporter": "python",
   "pygments_lexer": "ipython2",
   "version": "2.7.15"
  }
 },
 "nbformat": 4,
 "nbformat_minor": 2
}
