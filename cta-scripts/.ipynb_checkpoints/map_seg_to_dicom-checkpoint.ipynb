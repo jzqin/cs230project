{
 "cells": [
  {
   "cell_type": "code",
   "execution_count": 96,
   "metadata": {},
   "outputs": [],
   "source": [
    "import os\n",
    "import warnings\n",
    "\n",
    "def seg_map_dict(seg_dir, scan_dir):\n",
    "    \n",
    "    \"\"\"\n",
    "    Take in a directory containing segmentation data for the patients, find the coresponding directory \n",
    "    with the original DICOM scans, and return a dictionary with the .nii.gz file as the key, and the\n",
    "    corresponding directory of scans as the value.\n",
    "    \n",
    "    Arguments:\n",
    "        seg_dir: [string] directory containing the segmentation data, \n",
    "            for example: '/data2/yeom/ky_aneur/segmentation/new_segmentation'\n",
    "        scan_dir: [string] directory containing the original scans in DICOM\n",
    "            format, for example '/data2/yeom/ky_aneur/sah/SAH_1.25/'\n",
    "            \n",
    "    Return:\n",
    "        Dictionary mapping the segmentation data to the scans for each patient\n",
    "    \n",
    "    \n",
    "    \"\"\"\n",
    "    \n",
    "\n",
    "    seg_map_dict = dict()\n",
    "\n",
    "    for file in os.listdir(seg_dir):\n",
    "        name = file.split('.')[0]\n",
    "        path = ''\n",
    "        if name in os.listdir(scan_dir):\n",
    "            path = scan_dir + name\n",
    "        else:\n",
    "            for item in os.listdir(scan_dir):\n",
    "                if item.startswith(name):\n",
    "                    path = scan_dir + item\n",
    "                \n",
    "        for root, dirs, files in os.walk(path):\n",
    "            for f in files:\n",
    "                if f.endswith('.dcm'):\n",
    "                    assert seg_map_dict.get(file) == None # If this fails there is more than one directory containing a .dcm file\n",
    "                    path = os.path.join(root)\n",
    "                \n",
    "                \n",
    "        seg_map_dict[file] = path\n",
    "\n",
    "    warnings.warn('{} Did not get mapped; check name mismatch'.format([key for key,val in seg_map_dict.items() if val=='']))\n",
    "\n",
    "    return seg_map_dict\n",
    "    \n",
    "    "
   ]
  },
  {
   "cell_type": "code",
   "execution_count": 100,
   "metadata": {},
   "outputs": [
    {
     "name": "stdout",
     "output_type": "stream",
     "text": [
      "{'Casas_Earl.nii.gz': '/data2/yeom/ky_aneur/sah/SAH_1.25Casas_Earl', 'Dugo_Carolina.nii.gz': '/data2/yeom/ky_aneur/sah/SAH_1.25Dugo_Carolina', 'Contreras_Luz.nii.gz': '/data2/yeom/ky_aneur/sah/SAH_1.25Contreras_Luz', 'Cabalu_Elsa.nii.gz': '/data2/yeom/ky_aneur/sah/SAH_1.25Cabalu_Elsa', 'Cuddihy_Melissa.nii.gz': '/data2/yeom/ky_aneur/sah/SAH_1.25Cuddihy_Melissa', 'Amaro_Christina.nii.gz': '/data2/yeom/ky_aneur/sah/SAH_1.25Amaro_Christina', 'Boeke_Purkis_Katrin.nii.gz': '', 'Bargas_Linda.nii.gz': '/data2/yeom/ky_aneur/sah/SAH_1.25Bargas_Linda', 'Derosenhart_Suszanne_M.nii.gz': '/data2/yeom/ky_aneur/sah/SAH_1.25Derosenhart_Suszanne_M', 'Calvillo_Lupe.nii.gz': '/data2/yeom/ky_aneur/sah/SAH_1.25Calvillo_Lupe', 'Coake_Darlene_Ann.nii.gz': '/data2/yeom/ky_aneur/sah/SAH_1.25Coake_Darlene_Ann', 'Carlson_Maryanne.nii.gz': '/data2/yeom/ky_aneur/sah/SAH_1.25Carlson_Maryanne', 'Arslan_Sema.nii.gz': '/data2/yeom/ky_aneur/sah/SAH_1.25Arslan_Sema', 'Allen_Duane.nii.gz': '/data2/yeom/ky_aneur/sah/SAH_1.25Allen_Duane_L', 'Castillo_Elizabeth.nii.gz': '/data2/yeom/ky_aneur/sah/SAH_1.25Castillo_Elizabeth', 'Brown_Gregory_L.nii.gz': '/data2/yeom/ky_aneur/sah/SAH_1.25Brown_Gregory_L', 'Cruikshank_Susan.nii.gz': '/data2/yeom/ky_aneur/sah/SAH_1.25Cruikshank_Susan', 'Andrade_Alicia.nii.gz': '/data2/yeom/ky_aneur/sah/SAH_1.25Andrade_Alicia', 'Blankenship_James.nii.gz': '/data2/yeom/ky_aneur/sah/SAH_1.25Blankenship_James'}\n"
     ]
    },
    {
     "name": "stderr",
     "output_type": "stream",
     "text": [
      "/home/ky_aneur/anaconda2/lib/python2.7/site-packages/ipykernel_launcher.py:45: UserWarning: ['Boeke_Purkis_Katrin.nii.gz'] Did not get mapped; check name mismatch\n"
     ]
    }
   ],
   "source": [
    "print(seg_map_dict('/data2/yeom/ky_aneur/segmentation/new_segmentation','/data2/yeom/ky_aneur/sah/SAH_1.25'))"
   ]
  },
  {
   "cell_type": "code",
   "execution_count": null,
   "metadata": {},
   "outputs": [],
   "source": []
  }
 ],
 "metadata": {
  "kernelspec": {
   "display_name": "Python 2",
   "language": "python",
   "name": "python2"
  },
  "language_info": {
   "codemirror_mode": {
    "name": "ipython",
    "version": 2
   },
   "file_extension": ".py",
   "mimetype": "text/x-python",
   "name": "python",
   "nbconvert_exporter": "python",
   "pygments_lexer": "ipython2",
   "version": "2.7.15"
  }
 },
 "nbformat": 4,
 "nbformat_minor": 2
}
