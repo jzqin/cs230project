{
 "cells": [
  {
   "cell_type": "code",
   "execution_count": null,
   "metadata": {},
   "outputs": [],
   "source": [
    "\"\"\"\n",
    "Jason Qin\n",
    "\n",
    "Architecture and hyperparameter search\n",
    "\n",
    "Adapted from: https://github.com/cs230-stanford/cs230-code-examples/blob/master/pytorch/vision/search_hyperparams.py\n",
    "\"\"\""
   ]
  },
  {
   "cell_type": "code",
   "execution_count": 2,
   "metadata": {},
   "outputs": [],
   "source": [
    "import numpy as np\n",
    "import argparse\n",
    "import os\n",
    "from subprocess import check_call\n",
    "import sys\n",
    "import re\n",
    "import matplotlib.pyplot as plt"
   ]
  },
  {
   "cell_type": "code",
   "execution_count": 36,
   "metadata": {},
   "outputs": [
    {
     "name": "stdout",
     "output_type": "stream",
     "text": [
      "CUDA_VISIBLE_DEVICES=\"0,1\" python /home/ky_aneur/cs230/code/resnet/semantic-segmentation-pytorch/train3.py --num_gpus 2 --num_class 2 --root_data /data2/yeom/ky_aneur/sah_png/train --list_train ~/cs230/code/cta-scripts/train_list_40x_upsampling.odgt --num_epoch 20 --id resnet50_upernet_train3 --ckpt /data2/yeom/ky_aneur/results/ckpt/loss_weights/ --arch_encoder resnet50 --arch_decoder upernet --optim adam --epoch_iters 500 --segm_downsampling_rate 4 --padding_constant 32\n",
      "/home/ky_aneur/cs230/code/resnet/semantic-segmentation-pytorch/training_outputs/loss_weights/resnet50_upernet_train3.txt\n"
     ]
    },
    {
     "ename": "KeyboardInterrupt",
     "evalue": "",
     "output_type": "error",
     "traceback": [
      "\u001b[0;31m---------------------------------------------------------------------------\u001b[0m",
      "\u001b[0;31mKeyboardInterrupt\u001b[0m                         Traceback (most recent call last)",
      "\u001b[0;32m<ipython-input-36-f44f9b99cbaf>\u001b[0m in \u001b[0;36m<module>\u001b[0;34m()\u001b[0m\n\u001b[1;32m     22\u001b[0m             \u001b[0;32mprint\u001b[0m\u001b[0;34m(\u001b[0m\u001b[0moutput\u001b[0m\u001b[0;34m)\u001b[0m\u001b[0;34m\u001b[0m\u001b[0m\n\u001b[1;32m     23\u001b[0m             \u001b[0;32mwith\u001b[0m \u001b[0mopen\u001b[0m\u001b[0;34m(\u001b[0m\u001b[0moutput\u001b[0m\u001b[0;34m,\u001b[0m \u001b[0;34m'w'\u001b[0m\u001b[0;34m)\u001b[0m \u001b[0;32mas\u001b[0m \u001b[0mf\u001b[0m\u001b[0;34m:\u001b[0m\u001b[0;34m\u001b[0m\u001b[0m\n\u001b[0;32m---> 24\u001b[0;31m                 \u001b[0mcheck_call\u001b[0m\u001b[0;34m(\u001b[0m\u001b[0mcmd\u001b[0m\u001b[0;34m,\u001b[0m \u001b[0mshell\u001b[0m\u001b[0;34m=\u001b[0m\u001b[0mTrue\u001b[0m\u001b[0;34m,\u001b[0m \u001b[0mstdout\u001b[0m\u001b[0;34m=\u001b[0m\u001b[0mf\u001b[0m\u001b[0;34m)\u001b[0m\u001b[0;34m\u001b[0m\u001b[0m\n\u001b[0m\u001b[1;32m     25\u001b[0m \u001b[0;34m\u001b[0m\u001b[0m\n\u001b[1;32m     26\u001b[0m \"\"\"\n",
      "\u001b[0;32m/home/ky_aneur/anaconda2/lib/python2.7/subprocess.pyc\u001b[0m in \u001b[0;36mcheck_call\u001b[0;34m(*popenargs, **kwargs)\u001b[0m\n\u001b[1;32m    183\u001b[0m     \u001b[0mcheck_call\u001b[0m\u001b[0;34m(\u001b[0m\u001b[0;34m[\u001b[0m\u001b[0;34m\"ls\"\u001b[0m\u001b[0;34m,\u001b[0m \u001b[0;34m\"-l\"\u001b[0m\u001b[0;34m]\u001b[0m\u001b[0;34m)\u001b[0m\u001b[0;34m\u001b[0m\u001b[0m\n\u001b[1;32m    184\u001b[0m     \"\"\"\n\u001b[0;32m--> 185\u001b[0;31m     \u001b[0mretcode\u001b[0m \u001b[0;34m=\u001b[0m \u001b[0mcall\u001b[0m\u001b[0;34m(\u001b[0m\u001b[0;34m*\u001b[0m\u001b[0mpopenargs\u001b[0m\u001b[0;34m,\u001b[0m \u001b[0;34m**\u001b[0m\u001b[0mkwargs\u001b[0m\u001b[0;34m)\u001b[0m\u001b[0;34m\u001b[0m\u001b[0m\n\u001b[0m\u001b[1;32m    186\u001b[0m     \u001b[0;32mif\u001b[0m \u001b[0mretcode\u001b[0m\u001b[0;34m:\u001b[0m\u001b[0;34m\u001b[0m\u001b[0m\n\u001b[1;32m    187\u001b[0m         \u001b[0mcmd\u001b[0m \u001b[0;34m=\u001b[0m \u001b[0mkwargs\u001b[0m\u001b[0;34m.\u001b[0m\u001b[0mget\u001b[0m\u001b[0;34m(\u001b[0m\u001b[0;34m\"args\"\u001b[0m\u001b[0;34m)\u001b[0m\u001b[0;34m\u001b[0m\u001b[0m\n",
      "\u001b[0;32m/home/ky_aneur/anaconda2/lib/python2.7/subprocess.pyc\u001b[0m in \u001b[0;36mcall\u001b[0;34m(*popenargs, **kwargs)\u001b[0m\n\u001b[1;32m    170\u001b[0m     \u001b[0mretcode\u001b[0m \u001b[0;34m=\u001b[0m \u001b[0mcall\u001b[0m\u001b[0;34m(\u001b[0m\u001b[0;34m[\u001b[0m\u001b[0;34m\"ls\"\u001b[0m\u001b[0;34m,\u001b[0m \u001b[0;34m\"-l\"\u001b[0m\u001b[0;34m]\u001b[0m\u001b[0;34m)\u001b[0m\u001b[0;34m\u001b[0m\u001b[0m\n\u001b[1;32m    171\u001b[0m     \"\"\"\n\u001b[0;32m--> 172\u001b[0;31m     \u001b[0;32mreturn\u001b[0m \u001b[0mPopen\u001b[0m\u001b[0;34m(\u001b[0m\u001b[0;34m*\u001b[0m\u001b[0mpopenargs\u001b[0m\u001b[0;34m,\u001b[0m \u001b[0;34m**\u001b[0m\u001b[0mkwargs\u001b[0m\u001b[0;34m)\u001b[0m\u001b[0;34m.\u001b[0m\u001b[0mwait\u001b[0m\u001b[0;34m(\u001b[0m\u001b[0;34m)\u001b[0m\u001b[0;34m\u001b[0m\u001b[0m\n\u001b[0m\u001b[1;32m    173\u001b[0m \u001b[0;34m\u001b[0m\u001b[0m\n\u001b[1;32m    174\u001b[0m \u001b[0;34m\u001b[0m\u001b[0m\n",
      "\u001b[0;32m/home/ky_aneur/anaconda2/lib/python2.7/subprocess.pyc\u001b[0m in \u001b[0;36mwait\u001b[0;34m(self)\u001b[0m\n\u001b[1;32m   1097\u001b[0m             \u001b[0;32mwhile\u001b[0m \u001b[0mself\u001b[0m\u001b[0;34m.\u001b[0m\u001b[0mreturncode\u001b[0m \u001b[0;32mis\u001b[0m \u001b[0mNone\u001b[0m\u001b[0;34m:\u001b[0m\u001b[0;34m\u001b[0m\u001b[0m\n\u001b[1;32m   1098\u001b[0m                 \u001b[0;32mtry\u001b[0m\u001b[0;34m:\u001b[0m\u001b[0;34m\u001b[0m\u001b[0m\n\u001b[0;32m-> 1099\u001b[0;31m                     \u001b[0mpid\u001b[0m\u001b[0;34m,\u001b[0m \u001b[0msts\u001b[0m \u001b[0;34m=\u001b[0m \u001b[0m_eintr_retry_call\u001b[0m\u001b[0;34m(\u001b[0m\u001b[0mos\u001b[0m\u001b[0;34m.\u001b[0m\u001b[0mwaitpid\u001b[0m\u001b[0;34m,\u001b[0m \u001b[0mself\u001b[0m\u001b[0;34m.\u001b[0m\u001b[0mpid\u001b[0m\u001b[0;34m,\u001b[0m \u001b[0;36m0\u001b[0m\u001b[0;34m)\u001b[0m\u001b[0;34m\u001b[0m\u001b[0m\n\u001b[0m\u001b[1;32m   1100\u001b[0m                 \u001b[0;32mexcept\u001b[0m \u001b[0mOSError\u001b[0m \u001b[0;32mas\u001b[0m \u001b[0me\u001b[0m\u001b[0;34m:\u001b[0m\u001b[0;34m\u001b[0m\u001b[0m\n\u001b[1;32m   1101\u001b[0m                     \u001b[0;32mif\u001b[0m \u001b[0me\u001b[0m\u001b[0;34m.\u001b[0m\u001b[0merrno\u001b[0m \u001b[0;34m!=\u001b[0m \u001b[0merrno\u001b[0m\u001b[0;34m.\u001b[0m\u001b[0mECHILD\u001b[0m\u001b[0;34m:\u001b[0m\u001b[0;34m\u001b[0m\u001b[0m\n",
      "\u001b[0;32m/home/ky_aneur/anaconda2/lib/python2.7/subprocess.pyc\u001b[0m in \u001b[0;36m_eintr_retry_call\u001b[0;34m(func, *args)\u001b[0m\n\u001b[1;32m    123\u001b[0m     \u001b[0;32mwhile\u001b[0m \u001b[0mTrue\u001b[0m\u001b[0;34m:\u001b[0m\u001b[0;34m\u001b[0m\u001b[0m\n\u001b[1;32m    124\u001b[0m         \u001b[0;32mtry\u001b[0m\u001b[0;34m:\u001b[0m\u001b[0;34m\u001b[0m\u001b[0m\n\u001b[0;32m--> 125\u001b[0;31m             \u001b[0;32mreturn\u001b[0m \u001b[0mfunc\u001b[0m\u001b[0;34m(\u001b[0m\u001b[0;34m*\u001b[0m\u001b[0margs\u001b[0m\u001b[0;34m)\u001b[0m\u001b[0;34m\u001b[0m\u001b[0m\n\u001b[0m\u001b[1;32m    126\u001b[0m         \u001b[0;32mexcept\u001b[0m \u001b[0;34m(\u001b[0m\u001b[0mOSError\u001b[0m\u001b[0;34m,\u001b[0m \u001b[0mIOError\u001b[0m\u001b[0;34m)\u001b[0m \u001b[0;32mas\u001b[0m \u001b[0me\u001b[0m\u001b[0;34m:\u001b[0m\u001b[0;34m\u001b[0m\u001b[0m\n\u001b[1;32m    127\u001b[0m             \u001b[0;32mif\u001b[0m \u001b[0me\u001b[0m\u001b[0;34m.\u001b[0m\u001b[0merrno\u001b[0m \u001b[0;34m==\u001b[0m \u001b[0merrno\u001b[0m\u001b[0;34m.\u001b[0m\u001b[0mEINTR\u001b[0m\u001b[0;34m:\u001b[0m\u001b[0;34m\u001b[0m\u001b[0m\n",
      "\u001b[0;31mKeyboardInterrupt\u001b[0m: "
     ]
    }
   ],
   "source": [
    "\"\"\"Test different architectures\"\"\"\n",
    "PYTHON = sys.executable\n",
    "\n",
    "# encoders = ['resnet50', 'resnet101']\n",
    "# decoders = ['c1', 'upernet']\n",
    "encoders = ['resnet50']\n",
    "decoders = ['upernet']\n",
    "# train = ['', '2']\n",
    "train = ['3']\n",
    "trainLists = ['train_list_10x_upsampling.odgt', 'train_list_100x_upsampling.odgt']\n",
    "\n",
    "for encoder in encoders:\n",
    "    for decoder in decoders:\n",
    "        for t in train:\n",
    "            cmd = ('CUDA_VISIBLE_DEVICES=\"0,1\" python /home/ky_aneur/cs230/code/resnet/semantic-segmentation-pytorch/train{train}.py --num_gpus 2 --num_class 2 --root_data '\n",
    "                   '/data2/yeom/ky_aneur/sah_png/train --list_train ~/cs230/code/cta-scripts/train_list_40x_upsampling.odgt --num_epoch 20 '\n",
    "                   '--id {encoder}_{decoder}_train{train} --ckpt /data2/yeom/ky_aneur/results/ckpt/loss_weights/ --arch_encoder {encoder} --arch_decoder {decoder} --optim adam --epoch_iters 500').format(train=t, encoder=encoder, decoder=decoder)\n",
    "            if 'upernet' in cmd:\n",
    "                cmd = cmd + ' --segm_downsampling_rate 4 --padding_constant 32'\n",
    "            output = '/home/ky_aneur/cs230/code/resnet/semantic-segmentation-pytorch/training_outputs/loss_weights/{}_{}_train{train}.txt'.format(encoder, decoder, train=t)\n",
    "            print(cmd)\n",
    "            print(output)\n",
    "            with open(output, 'w') as f:\n",
    "                check_call(cmd, shell=True, stdout=f)\n",
    "\n",
    "\n",
    "for encoder in encoders:\n",
    "    for decoder in decoders:\n",
    "        for tl in trainLists:\n",
    "            t = ''\n",
    "            cmd = ('CUDA_VISIBLE_DEVICES=\"0,1\" python /home/ky_aneur/cs230/code/resnet/semantic-segmentation-pytorch/train{train}.py --num_gpus 2 --num_class 2 --root_data '\n",
    "                   '/data2/yeom/ky_aneur/sah_png/train --list_train ~/cs230/code/cta-scripts/{tl} --num_epoch 20 '\n",
    "                   '--id {encoder}_{decoder}_train{train} --ckpt /data2/yeom/ky_aneur/results/ckpt/upsampling/ --arch_encoder {encoder} --arch_decoder {decoder} --optim adam --epoch_iters 500').format(train=t, tl=tl, encoder=encoder, decoder=decoder)\n",
    "            if 'upernet' in cmd:\n",
    "                cmd = cmd + ' --segm_downsampling_rate 4 --padding_constant 32'\n",
    "            output = '/home/ky_aneur/cs230/code/resnet/semantic-segmentation-pytorch/training_outputs/upsampling/{}_{}_t{tl}.txt'.format(encoder, decoder, tl = tl)\n",
    "            print(cmd)\n",
    "            print(output)\n",
    "            with open(output, 'w') as f:\n",
    "                check_call(cmd, shell=True, stdout=f)"
   ]
  },
  {
   "cell_type": "code",
   "execution_count": 33,
   "metadata": {},
   "outputs": [
    {
     "data": {
      "image/png": "[encoded data removed]",
      "text/plain": [
       "<Figure size 432x288 with 1 Axes>"
      ]
     },
     "metadata": {
      "needs_background": "light"
     },
     "output_type": "display_data"
    },
    {
     "data": {
      "image/png": "[encoded data removed]",
      "text/plain": [
       "<Figure size 432x288 with 1 Axes>"
      ]
     },
     "metadata": {
      "needs_background": "light"
     },
     "output_type": "display_data"
    },
    {
     "ename": "IOError",
     "evalue": "[Errno 2] No such file or directory: '/home/ky_aneur/cs230/code/resnet/semantic-segmentation-pytorch/training_outputs/arch/resnet50_upernet.txt'",
     "output_type": "error",
     "traceback": [
      "\u001b[0;31m---------------------------------------------------------------------------\u001b[0m",
      "\u001b[0;31mIOError\u001b[0m                                   Traceback (most recent call last)",
      "\u001b[0;32m<ipython-input-33-3a8373dafd46>\u001b[0m in \u001b[0;36m<module>\u001b[0;34m()\u001b[0m\n\u001b[1;32m      8\u001b[0m     \u001b[0;32mfor\u001b[0m \u001b[0mdecoder\u001b[0m \u001b[0;32min\u001b[0m \u001b[0mdecoders\u001b[0m\u001b[0;34m:\u001b[0m\u001b[0;34m\u001b[0m\u001b[0m\n\u001b[1;32m      9\u001b[0m         \u001b[0mlogFile\u001b[0m \u001b[0;34m=\u001b[0m \u001b[0;34m'/home/ky_aneur/cs230/code/resnet/semantic-segmentation-pytorch/training_outputs/arch/{}_{}.txt'\u001b[0m\u001b[0;34m.\u001b[0m\u001b[0mformat\u001b[0m\u001b[0;34m(\u001b[0m\u001b[0mencoder\u001b[0m\u001b[0;34m,\u001b[0m \u001b[0mdecoder\u001b[0m\u001b[0;34m)\u001b[0m\u001b[0;34m\u001b[0m\u001b[0m\n\u001b[0;32m---> 10\u001b[0;31m         \u001b[0mlines\u001b[0m \u001b[0;34m=\u001b[0m \u001b[0;34m[\u001b[0m\u001b[0mline\u001b[0m\u001b[0;34m.\u001b[0m\u001b[0mrstrip\u001b[0m\u001b[0;34m(\u001b[0m\u001b[0;34m'\\n'\u001b[0m\u001b[0;34m)\u001b[0m \u001b[0;32mfor\u001b[0m \u001b[0mline\u001b[0m \u001b[0;32min\u001b[0m \u001b[0mopen\u001b[0m\u001b[0;34m(\u001b[0m\u001b[0mlogFile\u001b[0m\u001b[0;34m,\u001b[0m \u001b[0;34m'r'\u001b[0m\u001b[0;34m)\u001b[0m\u001b[0;34m]\u001b[0m\u001b[0;34m\u001b[0m\u001b[0m\n\u001b[0m\u001b[1;32m     11\u001b[0m         \u001b[0;32mfor\u001b[0m \u001b[0mline\u001b[0m \u001b[0;32min\u001b[0m \u001b[0mlines\u001b[0m\u001b[0;34m:\u001b[0m\u001b[0;34m\u001b[0m\u001b[0m\n\u001b[1;32m     12\u001b[0m             \u001b[0mlossRe\u001b[0m \u001b[0;34m=\u001b[0m \u001b[0mre\u001b[0m\u001b[0;34m.\u001b[0m\u001b[0mcompile\u001b[0m\u001b[0;34m(\u001b[0m\u001b[0;34m'Loss: \\d\\.\\d*'\u001b[0m\u001b[0;34m)\u001b[0m\u001b[0;34m\u001b[0m\u001b[0m\n",
      "\u001b[0;31mIOError\u001b[0m: [Errno 2] No such file or directory: '/home/ky_aneur/cs230/code/resnet/semantic-segmentation-pytorch/training_outputs/arch/resnet50_upernet.txt'"
     ]
    }
   ],
   "source": [
    "\"\"\"Visualize architecture loss and IOU over time\"\"\"\n",
    "encoders = ['resnet50', 'resnext101']\n",
    "decoders = ['c1', 'ppm', 'upernet']\n",
    "\n",
    "losses = []\n",
    "ious = []\n",
    "for encoder in encoders:\n",
    "    for decoder in decoders:\n",
    "        logFile = '/home/ky_aneur/cs230/code/resnet/semantic-segmentation-pytorch/training_outputs/arch/{}_{}.txt'.format(encoder, decoder)\n",
    "        lines = [line.rstrip('\\n') for line in open(logFile, 'r')]\n",
    "        for line in lines:\n",
    "            lossRe = re.compile('Loss: \\d\\.\\d*')\n",
    "            loss = lossRe.search(line)\n",
    "            if loss is not None:\n",
    "                loss = loss.group(0)\n",
    "                loss = loss.split(' ')[1]\n",
    "                losses.append(loss)\n",
    "            \n",
    "            iouRe = re.compile('IOU: \\d\\.\\d*')\n",
    "            iou = iouRe.search(line)\n",
    "            if iou is not None:\n",
    "                iou = iou.group(0)\n",
    "                iou = iou.split(' ')[1]\n",
    "                ious.append(iou)\n",
    "            \n",
    "        epochs = np.array(range(len(ious)))\n",
    "        epochs = epochs / (740/20.)\n",
    "        losses = np.array(losses).astype(np.float)\n",
    "        ious = np.array(ious).astype(np.float)\n",
    "        plt.plot(epochs, losses, label='Loss', marker='.', linestyle='')\n",
    "        plt.show()\n",
    "        plt.plot(epochs, ious, label='IOU', marker='.', linestyle='')\n",
    "        plt.show()"
   ]
  },
  {
   "cell_type": "code",
   "execution_count": null,
   "metadata": {},
   "outputs": [],
   "source": [
    "\"\"\"Evaluate different architectures\"\"\"\n",
    "PYTHON = sys.executable\n",
    "\n",
    "encoders = ['resnet50', 'resnext101']\n",
    "decoders = ['c1', 'ppm', 'upernet']\n",
    "\n",
    "for encoder in encoders:\n",
    "    for decoder in decoders:\n",
    "        resultDir = '/data2/yeom/ky_aneur/results/dev/{}_{}'.format(encoder, decoder)\n",
    "        os.mkdir(resultDir)\n",
    "        if 'upernet' in decoder:\n",
    "            paddingConstant = 32\n",
    "            segmDownsamplingRate = 4\n",
    "        else:\n",
    "            paddingConstant = 8\n",
    "            segmDownsamplingRate = 8\n",
    "        cmd = ('python eval.py --id {encoder}_{decoder}-{encoder}-{decoder}-ngpus2-batchSize4-imgMaxSize1000-paddingConst{paddingConstant}-segmDownsampleRate{segmDownsamplingRate}-LR_encoder0.02'\n",
    "               '-LR_decoder0.02-epoch12 --list_val /home/ky_aneur/cs230/code/cta-scripts/dev_list.odgt --root_dataset /data2/yeom/ky_aneur/sah_png/dev/ '\n",
    "               '--num_class 2 --ckpt /data2/yeom/ky_aneur/results/ckpt/loss_weights/ --visualize --result {resultDir} --suffix _epoch_12.pth').format(encoder=encoder, decoder=decoder, paddingConstant=paddingConstant, \n",
    "                                                                                                             segmDownsamplingRate = segmDownsamplingRate, resultDir = resultDir)\n",
    "        output = '/home/ky_aneur/cs230/code/resnet/semantic-segmentation-pytorch/eval_outputs/arch/{}_{}.txt'.format(encoder, decoder)\n",
    "        print(cmd)\n",
    "        with open(output, 'w') as f:\n",
    "            check_call(cmd, shell=True, stdout=f)"
   ]
  },
  {
   "cell_type": "code",
   "execution_count": 47,
   "metadata": {},
   "outputs": [
    {
     "name": "stdout",
     "output_type": "stream",
     "text": [
      "CUDA_VISIBLE_DEVICES=\"0,1\" python /home/ky_aneur/cs230/code/resnet/semantic-segmentation-pytorch/train3.py --num_gpus 2 --num_class 2 --segm_downsampling_rate 4 --padding_constant 32 --root_data /data2/yeom/ky_aneur/sah_png/train --lr_decoder 0.002 --list_train /home/ky_aneur/cs230/code/cta-scripts/train_list_40x_upsampling.odgt --num_epoch 20 --id resnet50_upernet_0.002 --arch_encoder resnet50 --arch_decoder upernet --optim adam --epoch_iters 500 --ckpt /data2/yeom/ky_aneur/results/ckpt/learning_rate/\n",
      "/home/ky_aneur/cs230/code/resnet/semantic-segmentation-pytorch/training_outputs/learning_rate/resnet50_upernet_0.002.txt\n",
      "CUDA_VISIBLE_DEVICES=\"0,1\" python /home/ky_aneur/cs230/code/resnet/semantic-segmentation-pytorch/train3.py --num_gpus 2 --num_class 2 --segm_downsampling_rate 4 --padding_constant 32 --root_data /data2/yeom/ky_aneur/sah_png/train --lr_decoder 0.2 --list_train /home/ky_aneur/cs230/code/cta-scripts/train_list_40x_upsampling.odgt --num_epoch 20 --id resnet50_upernet_0.2 --arch_encoder resnet50 --arch_decoder upernet --optim adam --epoch_iters 500 --ckpt /data2/yeom/ky_aneur/results/ckpt/learning_rate/\n",
      "/home/ky_aneur/cs230/code/resnet/semantic-segmentation-pytorch/training_outputs/learning_rate/resnet50_upernet_0.2.txt\n"
     ]
    }
   ],
   "source": [
    "\"\"\"Test different hyperparameters\"\"\"\n",
    "PYTHON = sys.executable\n",
    "\n",
    "encoders = ['resnet50']\n",
    "decoders = ['upernet']\n",
    "learningRates = [2e-3, 2e-1]\n",
    "\n",
    "for encoder in encoders:\n",
    "    for decoder in decoders:\n",
    "        for lr in learningRates:\n",
    "            cmd = ('CUDA_VISIBLE_DEVICES=\"0,1\" python /home/ky_aneur/cs230/code/resnet/semantic-segmentation-pytorch/train3.py --num_gpus 2 --num_class 2 --segm_downsampling_rate 4 --padding_constant 32 --root_data '\n",
    "                   '/data2/yeom/ky_aneur/sah_png/train --lr_decoder {lr} --list_train /home/ky_aneur/cs230/code/cta-scripts/train_list_40x_upsampling.odgt --num_epoch 20 '\n",
    "                   '--id {encoder}_{decoder}_{lr} --arch_encoder {encoder} --arch_decoder {decoder} --optim adam --epoch_iters 500 --ckpt /data2/yeom/ky_aneur/results/ckpt/learning_rate/').format(lr=lr, encoder=encoder, decoder=decoder)\n",
    "            output = '/home/ky_aneur/cs230/code/resnet/semantic-segmentation-pytorch/training_outputs/learning_rate/{encoder}_{decoder}_{lr}.txt'.format(encoder=encoder, decoder=decoder, lr=lr)\n",
    "            print(cmd)\n",
    "            print(output)\n",
    "            with open(output, 'w') as f:\n",
    "                check_call(cmd, shell=True, stdout=f)\n",
    "\n",
    "\n",
    "        "
   ]
  },
  {
   "cell_type": "code",
   "execution_count": null,
   "metadata": {},
   "outputs": [],
   "source": [
    "\"\"\"Evaluate different architectures\"\"\"\n",
    "PYTHON = sys.executable\n",
    "\n",
    "encoders = ['resnet50', 'resnext101']\n",
    "decoders = ['c1', 'ppm', 'upernet']\n",
    "\n",
    "for encoder in encoders:\n",
    "    for decoder in decoders:\n",
    "        resultDir = '/data2/yeom/ky_aneur/results/dev/{}_{}'.format(encoder, decoder)\n",
    "        os.mkdir(resultDir)\n",
    "        if 'upernet' in decoder:\n",
    "            paddingConstant = 32\n",
    "            segmDownsamplingRate = 4\n",
    "        else:\n",
    "            paddingConstant = 8\n",
    "            segmDownsamplingRate = 8\n",
    "        cmd = ('python eval.py --id {encoder}_{decoder}-{encoder}-{decoder}-ngpus2-batchSize4-imgMaxSize1000-paddingConst{paddingConstant}-segmDownsampleRate{segmDownsamplingRate}-LR_encoder0.02'\n",
    "               '-LR_decoder0.02-epoch12 --list_val /home/ky_aneur/cs230/code/cta-scripts/dev_list.odgt --root_dataset /data2/yeom/ky_aneur/sah_png/dev/ '\n",
    "               '--num_class 2 --ckpt ./ckpt --visualize --result {resultDir} --suffix _epoch_12.pth').format(encoder=encoder, decoder=decoder, paddingConstant=paddingConstant, \n",
    "                                                                                                             segmDownsamplingRate = segmDownsamplingRate, resultDir = resultDir)\n",
    "        output = '/home/ky_aneur/cs230/code/resnet/semantic-segmentation-pytorch/eval_outputs/arch/{}_{}.txt'.format(encoder, decoder)\n",
    "        print(cmd)\n",
    "        with open(output, 'w') as f:\n",
    "            check_call(cmd, shell=True, stdout=f)"
   ]
  }
 ],
 "metadata": {
  "kernelspec": {
   "display_name": "Python 2",
   "language": "python",
   "name": "python2"
  },
  "language_info": {
   "codemirror_mode": {
    "name": "ipython",
    "version": 2
   },
   "file_extension": ".py",
   "mimetype": "text/x-python",
   "name": "python",
   "nbconvert_exporter": "python",
   "pygments_lexer": "ipython2",
   "version": "2.7.15"
  }
 },
 "nbformat": 4,
 "nbformat_minor": 2
}
