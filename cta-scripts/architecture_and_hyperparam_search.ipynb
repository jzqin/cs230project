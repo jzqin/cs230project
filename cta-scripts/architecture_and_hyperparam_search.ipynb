{
 "cells": [
  {
   "cell_type": "code",
   "execution_count": null,
   "metadata": {},
   "outputs": [],
   "source": [
    "\"\"\"\n",
    "Jason Qin\n",
    "\n",
    "Architecture and hyperparameter search\n",
    "\n",
    "Adapted from: https://github.com/cs230-stanford/cs230-code-examples/blob/master/pytorch/vision/search_hyperparams.py\n",
    "\"\"\""
   ]
  },
  {
   "cell_type": "code",
   "execution_count": 2,
   "metadata": {},
   "outputs": [],
   "source": [
    "import numpy as np\n",
    "import argparse\n",
    "import os\n",
    "from subprocess import check_call\n",
    "import sys\n",
    "import re\n",
    "import matplotlib.pyplot as plt"
   ]
  },
  {
   "cell_type": "code",
   "execution_count": null,
   "metadata": {},
   "outputs": [],
   "source": [
    "\"\"\"Test different architectures\"\"\"\n",
    "PYTHON = sys.executable\n",
    "\n",
    "# encoders = ['resnet50', 'resnet101']\n",
    "# decoders = ['c1', 'upernet']\n",
    "encoders = ['resnet50']\n",
    "decoders = ['upernet']\n",
    "# train = ['', '2']\n",
    "train = ['3']\n",
    "trainLists = ['train_list_10x_upsampling.odgt', 'train_list_100x_upsampling.odgt']\n",
    "\n",
    "for encoder in encoders:\n",
    "    for decoder in decoders:\n",
    "        for t in train:\n",
    "            cmd = ('CUDA_VISIBLE_DEVICES=\"0,1\" python /home/ky_aneur/cs230/code/resnet/semantic-segmentation-pytorch/train{train}.py --num_gpus 2 --num_class 2 --root_data '\n",
    "                   '/data2/yeom/ky_aneur/sah_png/train --list_train ~/cs230/code/cta-scripts/train_list_40x_upsampling.odgt --num_epoch 20 '\n",
    "                   '--id {encoder}_{decoder}_train{train} --ckpt /data2/yeom/ky_aneur/results/ckpt/loss_weights/ --arch_encoder {encoder} --arch_decoder {decoder} --optim adam --epoch_iters 500').format(train=t, encoder=encoder, decoder=decoder)\n",
    "            if 'upernet' in cmd:\n",
    "                cmd = cmd + ' --segm_downsampling_rate 4 --padding_constant 32'\n",
    "            output = '/home/ky_aneur/cs230/code/resnet/semantic-segmentation-pytorch/training_outputs/loss_weights/{}_{}_train{train}.txt'.format(encoder, decoder, train=t)\n",
    "            print(cmd)\n",
    "            print(output)\n",
    "            with open(output, 'w') as f:\n",
    "                check_call(cmd, shell=True, stdout=f)\n",
    "\n",
    "\n",
    "for encoder in encoders:\n",
    "    for decoder in decoders:\n",
    "        for tl in trainLists:\n",
    "            t = ''\n",
    "            cmd = ('CUDA_VISIBLE_DEVICES=\"0,1\" python /home/ky_aneur/cs230/code/resnet/semantic-segmentation-pytorch/train{train}.py --num_gpus 2 --num_class 2 --root_data '\n",
    "                   '/data2/yeom/ky_aneur/sah_png/train --list_train ~/cs230/code/cta-scripts/{tl} --num_epoch 20 '\n",
    "                   '--id {encoder}_{decoder}_train{train} --ckpt /data2/yeom/ky_aneur/results/ckpt/upsampling/ --arch_encoder {encoder} --arch_decoder {decoder} --optim adam --epoch_iters 500').format(train=t, tl=tl, encoder=encoder, decoder=decoder)\n",
    "            if 'upernet' in cmd:\n",
    "                cmd = cmd + ' --segm_downsampling_rate 4 --padding_constant 32'\n",
    "            output = '/home/ky_aneur/cs230/code/resnet/semantic-segmentation-pytorch/training_outputs/upsampling/{}_{}_t{tl}.txt'.format(encoder, decoder, tl = tl)\n",
    "            print(cmd)\n",
    "            print(output)\n",
    "            with open(output, 'w') as f:\n",
    "                check_call(cmd, shell=True, stdout=f)"
   ]
  },
  {
   "cell_type": "code",
   "execution_count": 47,
   "metadata": {},
   "outputs": [
    {
     "name": "stdout",
     "output_type": "stream",
     "text": [
      "CUDA_VISIBLE_DEVICES=\"0,1\" python /home/ky_aneur/cs230/code/resnet/semantic-segmentation-pytorch/train3.py --num_gpus 2 --num_class 2 --segm_downsampling_rate 4 --padding_constant 32 --root_data /data2/yeom/ky_aneur/sah_png/train --lr_decoder 0.002 --list_train /home/ky_aneur/cs230/code/cta-scripts/train_list_40x_upsampling.odgt --num_epoch 20 --id resnet50_upernet_0.002 --arch_encoder resnet50 --arch_decoder upernet --optim adam --epoch_iters 500 --ckpt /data2/yeom/ky_aneur/results/ckpt/learning_rate/\n",
      "/home/ky_aneur/cs230/code/resnet/semantic-segmentation-pytorch/training_outputs/learning_rate/resnet50_upernet_0.002.txt\n",
      "CUDA_VISIBLE_DEVICES=\"0,1\" python /home/ky_aneur/cs230/code/resnet/semantic-segmentation-pytorch/train3.py --num_gpus 2 --num_class 2 --segm_downsampling_rate 4 --padding_constant 32 --root_data /data2/yeom/ky_aneur/sah_png/train --lr_decoder 0.2 --list_train /home/ky_aneur/cs230/code/cta-scripts/train_list_40x_upsampling.odgt --num_epoch 20 --id resnet50_upernet_0.2 --arch_encoder resnet50 --arch_decoder upernet --optim adam --epoch_iters 500 --ckpt /data2/yeom/ky_aneur/results/ckpt/learning_rate/\n",
      "/home/ky_aneur/cs230/code/resnet/semantic-segmentation-pytorch/training_outputs/learning_rate/resnet50_upernet_0.2.txt\n"
     ]
    }
   ],
   "source": [
    "\"\"\"Test different hyperparameters\"\"\"\n",
    "PYTHON = sys.executable\n",
    "\n",
    "encoders = ['resnet50']\n",
    "decoders = ['upernet']\n",
    "learningRates = [2e-3, 2e-1]\n",
    "\n",
    "for encoder in encoders:\n",
    "    for decoder in decoders:\n",
    "        for lr in learningRates:\n",
    "            cmd = ('CUDA_VISIBLE_DEVICES=\"0,1\" python /home/ky_aneur/cs230/code/resnet/semantic-segmentation-pytorch/train3.py --num_gpus 2 --num_class 2 --segm_downsampling_rate 4 --padding_constant 32 --root_data '\n",
    "                   '/data2/yeom/ky_aneur/sah_png/train --lr_decoder {lr} --list_train /home/ky_aneur/cs230/code/cta-scripts/train_list_40x_upsampling.odgt --num_epoch 20 '\n",
    "                   '--id {encoder}_{decoder}_{lr} --arch_encoder {encoder} --arch_decoder {decoder} --optim adam --epoch_iters 500 --ckpt /data2/yeom/ky_aneur/results/ckpt/learning_rate/').format(lr=lr, encoder=encoder, decoder=decoder)\n",
    "            output = '/home/ky_aneur/cs230/code/resnet/semantic-segmentation-pytorch/training_outputs/learning_rate/{encoder}_{decoder}_{lr}.txt'.format(encoder=encoder, decoder=decoder, lr=lr)\n",
    "            print(cmd)\n",
    "            print(output)\n",
    "            with open(output, 'w') as f:\n",
    "                check_call(cmd, shell=True, stdout=f)\n",
    "\n",
    "\n",
    "        "
   ]
  }
 ],
 "metadata": {
  "kernelspec": {
   "display_name": "Python 2",
   "language": "python",
   "name": "python2"
  },
  "language_info": {
   "codemirror_mode": {
    "name": "ipython",
    "version": 2
   },
   "file_extension": ".py",
   "mimetype": "text/x-python",
   "name": "python",
   "nbconvert_exporter": "python",
   "pygments_lexer": "ipython2",
   "version": "2.7.15"
  }
 },
 "nbformat": 4,
 "nbformat_minor": 2
}
